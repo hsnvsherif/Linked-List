{
  "nbformat": 4,
  "nbformat_minor": 0,
  "metadata": {
    "colab": {
      "provenance": [],
      "authorship_tag": "ABX9TyNnkwrwVoYzQiEwAvXdM62U",
      "include_colab_link": true
    },
    "kernelspec": {
      "name": "python3",
      "display_name": "Python 3"
    },
    "language_info": {
      "name": "python"
    }
  },
  "cells": [
    {
      "cell_type": "markdown",
      "metadata": {
        "id": "view-in-github",
        "colab_type": "text"
      },
      "source": [
        "<a href=\"https://colab.research.google.com/github/hsnvsherif/Linked-List/blob/main/_Matrix_Inversionbyformula.ipynb\" target=\"_parent\"><img src=\"https://colab.research.google.com/assets/colab-badge.svg\" alt=\"Open In Colab\"/></a>"
      ]
    },
    {
      "cell_type": "code",
      "execution_count": 2,
      "metadata": {
        "colab": {
          "base_uri": "https://localhost:8080/"
        },
        "id": "D0jT2VVw33G2",
        "outputId": "712bdd5f-df77-46ed-9d46-6831f6722572"
      },
      "outputs": [
        {
          "output_type": "stream",
          "name": "stdout",
          "text": [
            "Determinant of M: -1.0\n",
            "Inverse of M:\n",
            "[[ 0. -2.  1.]\n",
            " [ 0.  1.  0.]\n",
            " [ 1.  4. -2.]]\n",
            "Determinant of A: -251.9999999999998\n",
            "Rank of A: 3\n"
          ]
        }
      ],
      "source": [
        "import numpy as np\n",
        "\n",
        "# Define the matrix M\n",
        "M = np.array([[2, 0, 1], [0, 1, 0], [1, 2, 0]])\n",
        "\n",
        "# Calculate the determinant of M\n",
        "det_M = np.linalg.det(M)\n",
        "\n",
        "# If determinant is not zero, calculate the inverse\n",
        "if det_M != 0:\n",
        "    inverse_M = np.linalg.inv(M)\n",
        "else:\n",
        "    inverse_M = \"Matrix is not invertible\"\n",
        "\n",
        "# Print results\n",
        "print(\"Determinant of M:\", det_M)\n",
        "print(\"Inverse of M:\")\n",
        "print(inverse_M)\n",
        "\n",
        "# Define the matrix A\n",
        "A = np.array([[4, -3, 7], [-1, 6, 3], [2, 9, 1]])\n",
        "\n",
        "# Calculate the determinant of A\n",
        "det_A = np.linalg.det(A)\n",
        "\n",
        "# Determine the rank of A\n",
        "rank_A = np.linalg.matrix_rank(A)\n",
        "\n",
        "# Print results\n",
        "print(\"Determinant of A:\", det_A)\n",
        "print(\"Rank of A:\", rank_A)\n"
      ]
    }
  ]
}